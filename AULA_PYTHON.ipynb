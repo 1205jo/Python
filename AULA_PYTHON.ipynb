{
  "nbformat": 4,
  "nbformat_minor": 0,
  "metadata": {
    "colab": {
      "provenance": [],
      "authorship_tag": "ABX9TyPVc8oy4GnZkY/QCibL2jXp",
      "include_colab_link": true
    },
    "kernelspec": {
      "name": "python3",
      "display_name": "Python 3"
    },
    "language_info": {
      "name": "python"
    }
  },
  "cells": [
    {
      "cell_type": "markdown",
      "metadata": {
        "id": "view-in-github",
        "colab_type": "text"
      },
      "source": [
        "<a href=\"https://colab.research.google.com/github/1205jo/Python/blob/main/AULA_PYTHON.ipynb\" target=\"_parent\"><img src=\"https://colab.research.google.com/assets/colab-badge.svg\" alt=\"Open In Colab\"/></a>"
      ]
    },
    {
      "cell_type": "markdown",
      "source": [
        "#**Aula 1** ❤ ☘ ♠"
      ],
      "metadata": {
        "id": "-MQGEvn9ntai"
      }
    },
    {
      "cell_type": "code",
      "source": [
        "print(\"I competição de programação dá Start\")\n",
        "ano = \"IX\"\n",
        "print(f\"{ano} competição de programação da Start\")"
      ],
      "metadata": {
        "colab": {
          "base_uri": "https://localhost:8080/"
        },
        "id": "NzyngzQ8pc1O",
        "outputId": "cf538b05-6ae8-4b2a-fc21-0be8e59a732a"
      },
      "execution_count": null,
      "outputs": [
        {
          "output_type": "stream",
          "name": "stdout",
          "text": [
            "I competição de programação dá Start\n",
            "IX competição de programação da Start\n"
          ]
        }
      ]
    },
    {
      "cell_type": "markdown",
      "source": [
        "#**Aula2** ✈ ⚰ ☣"
      ],
      "metadata": {
        "id": "SbYJKl9Po4t6"
      }
    },
    {
      "cell_type": "code",
      "source": [
        "livro_ficcao = 8\n",
        "livro_n_ficcao = 10\n",
        "livro_infantil = 6\n",
        "pontos_rodrigo = livro_ficcao + livro_n_ficcao + livro_infantil\n",
        "pontos_ana = 2 * livro_ficcao + 5 * livro_infantil\n",
        "pontos_totais = pontos_rodrigo + pontos_ana\n",
        "print(f\"Os pontos totais do Rodrigo são {pontos_rodrigo}\")\n",
        "print(f\"Os pontos totais da Ana são {pontos_ana}\")\n",
        "print(f\"Os pontos totais do Rodrigo e da Ana são {pontos_totais}\")"
      ],
      "metadata": {
        "colab": {
          "base_uri": "https://localhost:8080/"
        },
        "id": "Wi9WInjEpKF4",
        "outputId": "e0cb3bb7-f49e-44d6-fa80-8ace8b751a04"
      },
      "execution_count": null,
      "outputs": [
        {
          "output_type": "stream",
          "name": "stdout",
          "text": [
            "Os pontos totais do Rodrigo são 24\n",
            "Os pontos totais da Ana são 46\n",
            "Os pontos totais do Rodrigo e da Ana são 70\n"
          ]
        }
      ]
    },
    {
      "cell_type": "markdown",
      "source": [
        "#**Aula3 Tabuada** ☪ ⚕ ☠"
      ],
      "metadata": {
        "id": "vVn2YuFMri2X"
      }
    },
    {
      "cell_type": "code",
      "source": [
        "def tabuada(numero):\n",
        "    for contador in range(1, 11):  # Gera números de 1 a 10\n",
        "        print(f\"{numero} x {contador} = {numero * contador}\")\n",
        "numero = int(input(\"Digite um número para ver sua tabuada: \"))\n",
        "tabuada(numero)\n"
      ],
      "metadata": {
        "colab": {
          "base_uri": "https://localhost:8080/"
        },
        "id": "Fvf8JTxasIX9",
        "outputId": "9c296bf5-a590-42db-b182-7ec1ddda16d0"
      },
      "execution_count": null,
      "outputs": [
        {
          "output_type": "stream",
          "name": "stdout",
          "text": [
            "Digite um número para ver sua tabuada: 5\n",
            "5 x 1 = 5\n",
            "5 x 2 = 10\n",
            "5 x 3 = 15\n",
            "5 x 4 = 20\n",
            "5 x 5 = 25\n",
            "5 x 6 = 30\n",
            "5 x 7 = 35\n",
            "5 x 8 = 40\n",
            "5 x 9 = 45\n",
            "5 x 10 = 50\n"
          ]
        }
      ]
    },
    {
      "cell_type": "markdown",
      "source": [
        "#**Aula4 IMC** ✝ ☦ ✳"
      ],
      "metadata": {
        "id": "zeBiEAHKubcX"
      }
    },
    {
      "cell_type": "code",
      "source": [
        "peso = float(input(\"Digite seu peso (em kg): \"))\n",
        "altura = float(input(\"Digite sua altura (em metros): \"))\n",
        "imc = peso / (altura ** 2)\n",
        "print(f\"\\nSeu IMC é: {imc:.2f}\")\n",
        "if imc < 18.5:\n",
        "    print(\"Você está abaixo do peso.\")\n",
        "elif 18.5 <= imc < 25:\n",
        "    print(\"Você está no peso ideal.\")\n",
        "elif 25 <= imc < 30:\n",
        "    print(\"Você está com sobrepeso.\")\n",
        "else:\n",
        "    print(\"Você está acima do peso.\")"
      ],
      "metadata": {
        "colab": {
          "base_uri": "https://localhost:8080/"
        },
        "id": "t9a97L7IvZc7",
        "outputId": "49617b11-b29c-44e3-9df6-5563c379991e"
      },
      "execution_count": null,
      "outputs": [
        {
          "output_type": "stream",
          "name": "stdout",
          "text": [
            "Digite seu peso (em kg): 5.2\n",
            "Digite sua altura (em metros): 1.65\n",
            "\n",
            "Seu IMC é: 1.91\n",
            "Você está abaixo do peso.\n"
          ]
        }
      ]
    },
    {
      "cell_type": "markdown",
      "source": [
        "#**Aula5** ❄ ⚒ ⚔"
      ],
      "metadata": {
        "id": "bdlNUQTHkcSB"
      }
    },
    {
      "cell_type": "code",
      "source": [
        "print(\"Olá, sou seu assistente virtua, em que posso ajudar?\")\n",
        "nome = input(\"Digite seu nome: \")\n",
        "resposta = input(f\"Olá {nome}, qual tema você deseja conversar? Python, Javascript ou Matemática: \").lower()\n",
        "if resposta == \"python\":\n",
        "  print(f\"Ótimo {nome}, vamos falar sobre Python. Python é uma linguagem de programação de alto nível, simples e fácil de aprender, muito usada em diversas áreas da tecnologia.\\n\")\n",
        "if resposta == \"javascript\":\n",
        "  print (f\"Ótimo {nome}, vamos falar sobre Javascript. JavaScript é uma linguagem de programação leve e dinâmica, criada originalmente para tornar as páginas web interativas.\\n\")\n",
        "if resposta == \"matemática\":\n",
        "  print(f\"Ótimo {nome}, vamos falar sobre Maremática. A Matemática é a ciência que estuda números, formas, medidas, estruturas e relações entre quantidades. Ela busca descrever e compreender padrões, além de resolver problemas de forma lógica e precisa.\\n\")\n",
        "else:\n",
        "  print(f\"Que pena {nome}, não sei falar sobre esse assuntos\")"
      ],
      "metadata": {
        "colab": {
          "base_uri": "https://localhost:8080/"
        },
        "id": "I_DdrpjilCPW",
        "outputId": "4731a457-2948-44f2-d70a-64f76b3c7762"
      },
      "execution_count": 14,
      "outputs": [
        {
          "output_type": "stream",
          "name": "stdout",
          "text": [
            "Olá, sou seu assistente virtua, em que posso ajudar?\n",
            "Digite seu nome: Jo\n",
            "Olá Jo, qual tema você deseja conversar? Python, Javascript ou Matemática: Javascript\n",
            "Ótimo Jo, vamos falar sobre Javascript. JavaScript é uma linguagem de programação leve e dinâmica, criada originalmente para tornar as páginas web interativas.\n",
            "\n",
            "Que pena Jo, não sei falar sobre esse assuntos\n"
          ]
        }
      ]
    }
  ]
}